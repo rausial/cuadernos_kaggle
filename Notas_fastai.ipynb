{
 "cells": [
  {
   "cell_type": "code",
   "execution_count": 3,
   "id": "6d17aae1",
   "metadata": {},
   "outputs": [],
   "source": [
    "from fastai.vision.all import * "
   ]
  },
  {
   "cell_type": "markdown",
   "id": "34e58e86",
   "metadata": {},
   "source": [
    "## Notas sobre cómo funciona fastai\n",
    "\n",
    "Estas notas las voy escribiendo conforme voy revisando la bilblioteca, basandome simplemente en lo que voy necesitando"
   ]
  },
  {
   "cell_type": "markdown",
   "id": "7606b0b9",
   "metadata": {},
   "source": [
    "## ¿Cómo funciona el callback `SaveModelCallback`?\n",
    "\n",
    "Esta clase sirve para guardar estados de un modelo durante el entrenamiento. Los estados que va guardando dependen de los parámetros con los que se inicie el objeto. Por defecto, lo que hace este callback es mantener actualizado el mejor modelo, es decir, después de un ciclo de ajuste `fit` del modelo, si el modelo mejora con respecto al último que se guardó, entonces se sobrescribe el anterior. El mejor modelo se define de acuerdo a la métrica de evaluación (por defecto 'valid_loss'). Si uno especifica el parámetro every_epoch como verdadero (True) entonces el guarda el modelo al final de cada época en un nuevo archivo cuyo nombre es el nombre especificado en el parámetro fname con el sufijo de la época que acaba de terminar, por ejemplo, después de la primer época se guardaría `{fname}_0`.\n",
    "\n",
    "Si uno pone el argumento `with_opt` entonces se guarda el estado del optimizador también, si no, se guarda sólo el modelo."
   ]
  },
  {
   "cell_type": "code",
   "execution_count": 7,
   "id": "d850107c",
   "metadata": {
    "scrolled": false
   },
   "outputs": [
    {
     "name": "stdout",
     "output_type": "stream",
     "text": [
      "Help on class SaveModelCallback in module fastai.callback.tracker:\n",
      "\n",
      "class SaveModelCallback(TrackerCallback)\n",
      " |  SaveModelCallback(monitor='valid_loss', comp=None, min_delta=0.0, fname='model', every_epoch=False, at_end=False, with_opt=False, reset_on_fit=True)\n",
      " |  \n",
      " |  A `TrackerCallback` that saves the model's best during training and loads it at the end.\n",
      " |  \n",
      " |  Method resolution order:\n",
      " |      SaveModelCallback\n",
      " |      TrackerCallback\n",
      " |      fastai.callback.core.Callback\n",
      " |      fastcore.basics.Stateful\n",
      " |      fastcore.basics.GetAttr\n",
      " |      builtins.object\n",
      " |  \n",
      " |  Methods defined here:\n",
      " |  \n",
      " |  __init__(self, monitor='valid_loss', comp=None, min_delta=0.0, fname='model', every_epoch=False, at_end=False, with_opt=False, reset_on_fit=True)\n",
      " |      Initialize self.  See help(type(self)) for accurate signature.\n",
      " |  \n",
      " |  after_epoch(self)\n",
      " |      Compare the value monitored to its best score and save if best.\n",
      " |  \n",
      " |  after_fit(self, **kwargs)\n",
      " |      Load the best model.\n",
      " |  \n",
      " |  ----------------------------------------------------------------------\n",
      " |  Data and other attributes defined here:\n",
      " |  \n",
      " |  order = 61\n",
      " |  \n",
      " |  ----------------------------------------------------------------------\n",
      " |  Methods inherited from TrackerCallback:\n",
      " |  \n",
      " |  before_fit(self)\n",
      " |      Prepare the monitored value\n",
      " |  \n",
      " |  ----------------------------------------------------------------------\n",
      " |  Data and other attributes inherited from TrackerCallback:\n",
      " |  \n",
      " |  remove_on_fetch = True\n",
      " |  \n",
      " |  ----------------------------------------------------------------------\n",
      " |  Methods inherited from fastai.callback.core.Callback:\n",
      " |  \n",
      " |  __call__(self, event_name)\n",
      " |      Call `self.{event_name}` if it's defined\n",
      " |  \n",
      " |  __repr__(self)\n",
      " |      Return repr(self).\n",
      " |  \n",
      " |  __setattr__(self, name, value)\n",
      " |      Implement setattr(self, name, value).\n",
      " |  \n",
      " |  ----------------------------------------------------------------------\n",
      " |  Readonly properties inherited from fastai.callback.core.Callback:\n",
      " |  \n",
      " |  name\n",
      " |      Name of the `Callback`, camel-cased and with '*Callback*' removed\n",
      " |  \n",
      " |  ----------------------------------------------------------------------\n",
      " |  Data and other attributes inherited from fastai.callback.core.Callback:\n",
      " |  \n",
      " |  learn = None\n",
      " |  \n",
      " |  run = True\n",
      " |  \n",
      " |  run_train = True\n",
      " |  \n",
      " |  run_valid = True\n",
      " |  \n",
      " |  ----------------------------------------------------------------------\n",
      " |  Methods inherited from fastcore.basics.Stateful:\n",
      " |  \n",
      " |  __getstate__(self)\n",
      " |  \n",
      " |  __setstate__(self, state)\n",
      " |  \n",
      " |  ----------------------------------------------------------------------\n",
      " |  Data descriptors inherited from fastcore.basics.Stateful:\n",
      " |  \n",
      " |  __dict__\n",
      " |      dictionary for instance variables (if defined)\n",
      " |  \n",
      " |  __weakref__\n",
      " |      list of weak references to the object (if defined)\n",
      " |  \n",
      " |  ----------------------------------------------------------------------\n",
      " |  Methods inherited from fastcore.basics.GetAttr:\n",
      " |  \n",
      " |  __dir__(self)\n",
      " |      Default dir() implementation.\n",
      " |  \n",
      " |  __getattr__(self, k)\n",
      "\n"
     ]
    }
   ],
   "source": [
    "help(SaveModelCallback)"
   ]
  },
  {
   "cell_type": "markdown",
   "id": "7ba8a417",
   "metadata": {},
   "source": [
    "## Objetivo:\n",
    "\n",
    "Entender cómo funciona para escribir una versión que sirva para continuar un entrenamiento cuando el proceso se vió interrumpido. Luego podría ver si esto sirve también para continuar un entrenamiento que terminó, pero que quisiera correr más epocas.\n",
    "\n",
    "El problema tiene que ver con determinar cómo se puede recuperar el estado del ParamScheduler y continuar desde ahí. \n"
   ]
  },
  {
   "cell_type": "code",
   "execution_count": null,
   "id": "1a6c586b",
   "metadata": {},
   "outputs": [],
   "source": []
  }
 ],
 "metadata": {
  "kernelspec": {
   "display_name": "Python 3",
   "language": "python",
   "name": "python3"
  },
  "language_info": {
   "codemirror_mode": {
    "name": "ipython",
    "version": 3
   },
   "file_extension": ".py",
   "mimetype": "text/x-python",
   "name": "python",
   "nbconvert_exporter": "python",
   "pygments_lexer": "ipython3",
   "version": "3.8.6"
  }
 },
 "nbformat": 4,
 "nbformat_minor": 5
}

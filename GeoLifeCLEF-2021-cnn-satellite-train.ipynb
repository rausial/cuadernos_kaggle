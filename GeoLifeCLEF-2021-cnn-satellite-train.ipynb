{
 "cells": [
  {
   "cell_type": "code",
   "execution_count": 1,
   "id": "a96ac3c6",
   "metadata": {
    "gradient": {}
   },
   "outputs": [],
   "source": [
    "#hide\n",
    "import os\n",
    "from pathlib import Path\n",
    "import time\n",
    "import matplotlib.pyplot as plt\n",
    "\n",
    "import pandas as pd\n",
    "from fastai.vision.all import *"
   ]
  },
  {
   "cell_type": "code",
   "execution_count": 2,
   "id": "9e330234",
   "metadata": {
    "gradient": {}
   },
   "outputs": [],
   "source": [
    "# Change this path to adapt to where you downloaded the data\n",
    "BASE_PATH = Path(\"/storage/geolifeclef-2021/\")\n",
    "DATA_PATH = BASE_PATH / \"data\"\n",
    "\n",
    "# Create the path to save submission files\n",
    "SUBMISSION_PATH = Path(\"submissions\")\n",
    "os.makedirs(SUBMISSION_PATH, exist_ok=True)"
   ]
  },
  {
   "cell_type": "code",
   "execution_count": 3,
   "id": "e20f7571",
   "metadata": {
    "gradient": {}
   },
   "outputs": [
    {
     "name": "stdout",
     "output_type": "stream",
     "text": [
      "Number of data sources: 4\n",
      "Arrays shape: [(256, 256, 3), (256, 256), (256, 256), (256, 256)]\n",
      "Data types: [dtype('uint8'), dtype('uint8'), dtype('int16'), dtype('uint8')]\n"
     ]
    }
   ],
   "source": [
    "import sys\n",
    "\n",
    "sys.path.append( '../' )\n",
    "from GLC.data_loading.common import load_patch\n",
    "from GLC.plotting import visualize_observation_patch\n",
    "from GLC.metrics import top_30_error_rate\n",
    "from GLC.metrics import top_k_error_rate_from_sets\n",
    "from GLC.metrics import predict_top_30_set, predict_top_k_set\n",
    "\n",
    "PATCHES_PATH = DATA_PATH / \"patches/\"\n",
    "patch = load_patch(10000000, PATCHES_PATH)\n",
    "\n",
    "print(\"Number of data sources: {}\".format(len(patch)))\n",
    "print(\"Arrays shape: {}\".format([p.shape for p in patch]))\n",
    "print(\"Data types: {}\".format([p.dtype for p in patch]))"
   ]
  },
  {
   "cell_type": "markdown",
   "id": "5d00abd2",
   "metadata": {
    "gradient": {
     "editing": false
    }
   },
   "source": [
    "# El plan\n",
    "\n",
    "Para cada observación hay que asociar las etiquetas de especies. Esto requiere construir un indice de coordenadas para asociar al patch respectivo todas las etiquetas necesarias.\n",
    "\n",
    "1. Crear datablock para leer las imagenes rgb:\n",
    "    1. Como leer las etiquetas\n",
    "    1. Cómo asociar los archivos de imagen\n",
    "1. "
   ]
  },
  {
   "cell_type": "code",
   "execution_count": 4,
   "id": "6cecb650",
   "metadata": {
    "gradient": {}
   },
   "outputs": [],
   "source": [
    "#load_patch??"
   ]
  },
  {
   "cell_type": "markdown",
   "id": "04c3984c",
   "metadata": {
    "gradient": {
     "editing": false
    }
   },
   "source": [
    "Obtener la ruta de archivo"
   ]
  },
  {
   "cell_type": "code",
   "execution_count": 5,
   "id": "0124bb82",
   "metadata": {
    "gradient": {}
   },
   "outputs": [],
   "source": [
    "def get_x(r):\n",
    "    \"\"\"Loads the patch data associated to an observation id\n",
    "\n",
    "    Parameters\n",
    "    ----------\n",
    "    observation_id : integer\n",
    "        Identifier of the observation.\n",
    "    patches_path : string / pathlib.Path\n",
    "        Path to the folder containing all the patches.\n",
    "    landcover_mapping : 1d array-like\n",
    "        Facultative mapping of landcover codes, useful to align France and US codes.\n",
    "    return_arrays : boolean\n",
    "        If True, returns all the patches as Numpy arrays (no PIL.Image returned).\n",
    "\n",
    "    Returns\n",
    "    -------\n",
    "    patches : tuple of size 4 containing 2d array-like objects\n",
    "        Returns a tuple containing all the patches in the following order: RGB, Near-IR, altitude and landcover.\n",
    "    \"\"\"\n",
    "    observation_id = str(r['observation_id'])\n",
    "\n",
    "    region_id = observation_id[0]\n",
    "    if region_id == \"1\":\n",
    "        region = \"fr\"\n",
    "    elif region_id == \"2\":\n",
    "        region = \"us\"\n",
    "    else:\n",
    "        raise ValueError(\"Incorrect 'observation_id' {}, can not extract region id from it\".format(observation_id))\n",
    "\n",
    "    subfolder1 = observation_id[-2:]\n",
    "    subfolder2 = observation_id[-4:-2]\n",
    "\n",
    "    filename = Path(PATCHES_PATH) / region / subfolder1 / subfolder2 / observation_id\n",
    "\n",
    "    rgb_filename = filename.with_name(filename.stem + \"_rgb.jpg\")\n",
    "    \n",
    "    return rgb_filename\n",
    "\n",
    "def get_y(r):\n",
    "    species_id = r['species_id']\n",
    "    \n",
    "    return species_id\n",
    "\n",
    "def splitter(df):\n",
    "    train = df.index[df['subset'] == 'train'].tolist()\n",
    "    valid = df.index[df['subset'] != 'train'].tolist()\n",
    "    return train,valid\n",
    "\n",
    "def get_observations(data_path):\n",
    "    df_fr = pd.read_csv(data_path / \"observations\" / \"observations_fr_train.csv\",\n",
    "                        sep=\";\", index_col=\"observation_id\")\n",
    "    df_us = pd.read_csv(data_path / \"observations\" / \"observations_us_train.csv\",\n",
    "                        sep=\";\", index_col=\"observation_id\")\n",
    "    \n",
    "    df = pd.concat((df_fr, df_us))\n",
    "    \n",
    "    return df\n",
    "\n",
    "def generate_submission_file(filename, corrected_observation_ids, s_pred):\n",
    "    s_pred = [\n",
    "        \" \".join(map(str, pred_set))\n",
    "        for pred_set in s_pred\n",
    "    ]\n",
    "    \n",
    "    df = pd.DataFrame({\n",
    "        \"Id\": corrected_observation_ids,\n",
    "        \"Predicted\": s_pred\n",
    "    })\n",
    "    df.to_csv(filename, index=False)\n",
    "    \n",
    "def get_test_observations(data_path):\n",
    "    df_fr_test = pd.read_csv(DATA_PATH / \"observations\" / \"observations_fr_test.csv\", sep=\";\",\n",
    "                             low_memory=False, dtype={'observation_id': str})\n",
    "    df_us_test = pd.read_csv(DATA_PATH / \"observations\" / \"observations_us_test.csv\", sep=\";\",\n",
    "                             low_memory=False, dtype={'observation_id': str})\n",
    "    \n",
    "    df_test = pd.concat((df_fr_test, df_us_test))\n",
    "    return df_test"
   ]
  },
  {
   "cell_type": "code",
   "execution_count": 9,
   "id": "d12eefc8",
   "metadata": {},
   "outputs": [],
   "source": [
    "def training_setup(load_model=True, load_dls= True, data_limit = None, model_file_name='geolife-21-cnn'):            \n",
    "    save_cbs = SaveModelCallback(every_epoch=True, with_opt=True, fname=model_file_name)\n",
    "    \n",
    "    if load_model:\n",
    "        load_dls = True\n",
    "    \n",
    "    if load_dls: \n",
    "        dls = load_pickle(f'{model_file_name}_dataloaders.pkl')\n",
    "\n",
    "    if load_model:\n",
    "        learn = cnn_learner(dls, resnet34, cbs=save_cbs)\n",
    "        \n",
    "        model_file = get_last_model_file(model_file_name)\n",
    "        learn = learn.load(model_file)\n",
    "    else:\n",
    "        \n",
    "        if not load_dls:\n",
    "            df = get_observations(DATA_PATH)\n",
    "            df = df.reset_index()\n",
    "\n",
    "            if data_limit != None:\n",
    "                df = df.sample(n=data_limit, random_state = 1)\n",
    "                df = df.reset_index(drop=True)\n",
    "            \n",
    "            not_train_labels = set(df[df.subset == 'val'].species_id).difference(df[df.subset == 'train'].species_id)\n",
    "            cond = df.species_id.isin(not_train_labels)\n",
    "            remove_idx = np.where(cond)[0]\n",
    "\n",
    "            df = df.drop(index=remove_idx)\n",
    "            df = df.reset_index(drop=True)\n",
    "\n",
    "            dblock = DataBlock((ImageBlock, CategoryBlock),\n",
    "                       get_x = get_x,\n",
    "                       get_y = get_y,\n",
    "                       splitter=splitter)\n",
    "\n",
    "            dls = dblock.dataloaders(df, bs=256)\n",
    "            save_pickle(f'{model_file_name}_dataloaders.pkl', dls)\n",
    "            save_pickle(f'{model_file_name}_observations_train_df.pkl', df)\n",
    "\n",
    "        learn = cnn_learner(dls, resnet34, cbs=save_cbs)\n",
    "    \n",
    "    return learn\n",
    "\n",
    "def get_last_model_file(model_file='geolife-21-cnn', dir_name='models'):\n",
    "    \n",
    "    file = sorted(Path(dir_name).glob(f'{model_file}*.pth'),\n",
    "                  key = os.path.getmtime,\n",
    "                  reverse=True)[0]\n",
    "                           \n",
    "    return file.stem\n"
   ]
  },
  {
   "cell_type": "code",
   "execution_count": 7,
   "id": "22d498b8",
   "metadata": {},
   "outputs": [],
   "source": [
    "def test_setup(new=False): \n",
    "    \n",
    "    if not new:\n",
    "        df_val = load_pickle('observations_test_df.pkl')\n",
    "    else:\n",
    "        df = get_observations(DATA_PATH)\n",
    "        df = df.reset_index()\n",
    "        df_val = df[df.subset == 'val']\n",
    "        save_pickle('observations_test_df.pkl', df_val)\n",
    "        \n",
    "    return df_val"
   ]
  },
  {
   "cell_type": "code",
   "execution_count": 8,
   "id": "cea53773",
   "metadata": {},
   "outputs": [],
   "source": [
    "def score_test(learn, df_val):\n",
    "    dl_t = learn.dls.test_dl(df_val, bs=128)\n",
    "    preds, _ = learn.get_preds(dl=dl_t)\n",
    "    \n",
    "    preds_ids = array([learn.dls.vocab[pred] for pred in predict_top_k_set(preds, 30)])\n",
    "    \n",
    "    y_val = df_val.species_id.astype(int)\n",
    "    score_val = top_k_error_rate_from_sets(y_val, preds_ids)\n",
    "    print(\"Top-30 error rate: {:.1%}\".format(score_val))"
   ]
  },
  {
   "cell_type": "code",
   "execution_count": null,
   "id": "162caadf",
   "metadata": {
    "gradient": {},
    "scrolled": true
   },
   "outputs": [],
   "source": [
    "df = get_observations(DATA_PATH)\n",
    "df = df.reset_index()\n",
    "df.head()"
   ]
  },
  {
   "cell_type": "code",
   "execution_count": null,
   "id": "f363673b",
   "metadata": {},
   "outputs": [],
   "source": [
    "test_run = False\n",
    "if test_run:\n",
    "    df = df.sample(n=1_300_000, random_state = 1)\n",
    "    df = df.reset_index(drop=True)"
   ]
  },
  {
   "cell_type": "code",
   "execution_count": null,
   "id": "e7f80516",
   "metadata": {
    "scrolled": false
   },
   "outputs": [],
   "source": [
    "not_train_labels = set(df[df.subset == 'val'].species_id).difference(df[df.subset == 'train'].species_id)\n",
    "len(not_train_labels)"
   ]
  },
  {
   "cell_type": "code",
   "execution_count": null,
   "id": "73db1af7",
   "metadata": {},
   "outputs": [],
   "source": [
    "cond = df.species_id.isin(not_train_labels)\n",
    "remove_idx = np.where(cond)[0]"
   ]
  },
  {
   "cell_type": "code",
   "execution_count": null,
   "id": "37fae03e",
   "metadata": {},
   "outputs": [],
   "source": [
    "df = df.drop(index=remove_idx)\n",
    "df = df.reset_index(drop=True)"
   ]
  },
  {
   "cell_type": "code",
   "execution_count": null,
   "id": "7a323eca",
   "metadata": {
    "gradient": {}
   },
   "outputs": [],
   "source": [
    "dblock = DataBlock((ImageBlock, CategoryBlock),\n",
    "                   get_x = get_x,\n",
    "                   get_y = get_y,\n",
    "                   splitter=splitter)"
   ]
  },
  {
   "cell_type": "code",
   "execution_count": null,
   "id": "f128bf58",
   "metadata": {
    "gradient": {},
    "scrolled": false
   },
   "outputs": [],
   "source": [
    "#dsets = dblock.datasets(df)\n",
    "#dsets.train[0]"
   ]
  },
  {
   "cell_type": "code",
   "execution_count": null,
   "id": "281476ed",
   "metadata": {
    "gradient": {}
   },
   "outputs": [],
   "source": [
    "#dsets.valid[0]"
   ]
  },
  {
   "cell_type": "code",
   "execution_count": null,
   "id": "3223fc6f",
   "metadata": {},
   "outputs": [],
   "source": [
    "df = load_pickle('observations_train_df.pkl')\n",
    "dls = load_pickle('dataloaders.pkl')"
   ]
  },
  {
   "cell_type": "code",
   "execution_count": null,
   "id": "53d0f213",
   "metadata": {
    "gradient": {},
    "scrolled": false
   },
   "outputs": [],
   "source": [
    "dls = dblock.dataloaders(df, bs=256)"
   ]
  },
  {
   "cell_type": "code",
   "execution_count": null,
   "id": "69928bb5",
   "metadata": {
    "gradient": {},
    "scrolled": false
   },
   "outputs": [],
   "source": [
    "dls.show_batch(nrows=1, ncols=3)"
   ]
  },
  {
   "cell_type": "code",
   "execution_count": null,
   "id": "7846f021",
   "metadata": {},
   "outputs": [],
   "source": [
    "save_pickle('observations_train_df.pkl', df)\n",
    "save_pickle('dataloaders.pkl', dls)"
   ]
  },
  {
   "cell_type": "code",
   "execution_count": null,
   "id": "f8965137",
   "metadata": {
    "gradient": {},
    "scrolled": false
   },
   "outputs": [],
   "source": [
    "#%time failed = verify_images(df.apply(get_x, axis=1))\n",
    "#failed"
   ]
  },
  {
   "cell_type": "code",
   "execution_count": null,
   "id": "ef553989",
   "metadata": {},
   "outputs": [],
   "source": [
    "#import csv\n",
    "\n",
    "#with open('failed_imgs.csv', 'w') as f:\n",
    "#    writer = csv.writer(f)\n",
    "#    writer.writerow(failed)\n"
   ]
  },
  {
   "cell_type": "code",
   "execution_count": null,
   "id": "2dd830f6",
   "metadata": {},
   "outputs": [],
   "source": [
    "#interp = ClassificationInterpretation.from_learner(learn)"
   ]
  },
  {
   "cell_type": "code",
   "execution_count": null,
   "id": "607d01fb",
   "metadata": {},
   "outputs": [],
   "source": [
    "#interp.plot_top_losses(3, nrows=1)"
   ]
  },
  {
   "cell_type": "code",
   "execution_count": null,
   "id": "a43058e4",
   "metadata": {
    "scrolled": false
   },
   "outputs": [],
   "source": [
    "#interp.print_classification_report()"
   ]
  },
  {
   "cell_type": "code",
   "execution_count": null,
   "id": "94509c13",
   "metadata": {},
   "outputs": [],
   "source": [
    "learn = cnn_learner(dls, resnet34)"
   ]
  },
  {
   "cell_type": "code",
   "execution_count": null,
   "id": "d87f64e4",
   "metadata": {},
   "outputs": [],
   "source": [
    "lr_min, lr_steep = learn.lr_find()"
   ]
  },
  {
   "cell_type": "code",
   "execution_count": null,
   "id": "e5eb3202",
   "metadata": {},
   "outputs": [],
   "source": [
    "lr_steep"
   ]
  },
  {
   "cell_type": "code",
   "execution_count": null,
   "id": "7150b929",
   "metadata": {},
   "outputs": [],
   "source": [
    "save_cbs = SaveModelCallback(every_epoch=True, with_opt=True, fname='geolife-21-cnn')"
   ]
  },
  {
   "cell_type": "code",
   "execution_count": null,
   "id": "6281d728",
   "metadata": {},
   "outputs": [],
   "source": [
    "learn = learn.load('geolife-21-cnn_1')"
   ]
  },
  {
   "cell_type": "code",
   "execution_count": 11,
   "id": "8e6e0645",
   "metadata": {},
   "outputs": [
    {
     "name": "stderr",
     "output_type": "stream",
     "text": [
      "/opt/conda/envs/fastai/lib/python3.8/site-packages/numpy/lib/arraysetops.py:583: FutureWarning: elementwise comparison failed; returning scalar instead, but in the future will perform elementwise comparison\n",
      "  mask |= (ar1 == a)\n"
     ]
    }
   ],
   "source": [
    "learn = training_setup(load_model=False, load_dls=False, model_file_name='geolife-21-cnn-full')"
   ]
  },
  {
   "cell_type": "code",
   "execution_count": 12,
   "id": "260a9e63",
   "metadata": {},
   "outputs": [],
   "source": [
    "df_val = test_setup()"
   ]
  },
  {
   "cell_type": "code",
   "execution_count": 13,
   "id": "e309fbfe",
   "metadata": {},
   "outputs": [
    {
     "data": {
      "text/html": [],
      "text/plain": [
       "<IPython.core.display.HTML object>"
      ]
     },
     "metadata": {},
     "output_type": "display_data"
    },
    {
     "name": "stdout",
     "output_type": "stream",
     "text": [
      "Top-30 error rate: 99.9%\n"
     ]
    }
   ],
   "source": [
    "score_test(learn, df_val)"
   ]
  },
  {
   "cell_type": "code",
   "execution_count": 14,
   "id": "0de8d4f9",
   "metadata": {},
   "outputs": [
    {
     "data": {
      "text/html": [],
      "text/plain": [
       "<IPython.core.display.HTML object>"
      ]
     },
     "metadata": {},
     "output_type": "display_data"
    },
    {
     "data": {
      "text/plain": [
       "0.17378008365631104"
      ]
     },
     "execution_count": 14,
     "metadata": {},
     "output_type": "execute_result"
    },
    {
     "data": {
      "image/png": "[encoded data removed]",
      "text/plain": [
       "<Figure size 432x288 with 1 Axes>"
      ]
     },
     "metadata": {
      "needs_background": "light"
     },
     "output_type": "display_data"
    }
   ],
   "source": [
    "lr_min, lr_steep = learn.lr_find()\n",
    "lr_steep"
   ]
  },
  {
   "cell_type": "code",
   "execution_count": 15,
   "id": "fa6fb0d2",
   "metadata": {},
   "outputs": [
    {
     "data": {
      "text/html": [
       "<table border=\"1\" class=\"dataframe\">\n",
       "  <thead>\n",
       "    <tr style=\"text-align: left;\">\n",
       "      <th>epoch</th>\n",
       "      <th>train_loss</th>\n",
       "      <th>valid_loss</th>\n",
       "      <th>time</th>\n",
       "    </tr>\n",
       "  </thead>\n",
       "  <tbody>\n",
       "    <tr>\n",
       "      <td>0</td>\n",
       "      <td>7.755381</td>\n",
       "      <td>7.497278</td>\n",
       "      <td>1:57:23</td>\n",
       "    </tr>\n",
       "  </tbody>\n",
       "</table>"
      ],
      "text/plain": [
       "<IPython.core.display.HTML object>"
      ]
     },
     "metadata": {},
     "output_type": "display_data"
    }
   ],
   "source": [
    "learn.fit_one_cycle(1, lr_steep)"
   ]
  },
  {
   "cell_type": "code",
   "execution_count": 18,
   "id": "cbe354fc",
   "metadata": {},
   "outputs": [
    {
     "data": {
      "text/html": [],
      "text/plain": [
       "<IPython.core.display.HTML object>"
      ]
     },
     "metadata": {},
     "output_type": "display_data"
    },
    {
     "name": "stdout",
     "output_type": "stream",
     "text": [
      "Top-30 error rate: 85.0%\n"
     ]
    }
   ],
   "source": [
    "score_test(learn, df_val)"
   ]
  },
  {
   "cell_type": "code",
   "execution_count": 19,
   "id": "79a81ddc",
   "metadata": {},
   "outputs": [
    {
     "data": {
      "text/html": [],
      "text/plain": [
       "<IPython.core.display.HTML object>"
      ]
     },
     "metadata": {},
     "output_type": "display_data"
    },
    {
     "data": {
      "image/png": "[encoded data removed]",
      "text/plain": [
       "<Figure size 432x288 with 1 Axes>"
      ]
     },
     "metadata": {
      "needs_background": "light"
     },
     "output_type": "display_data"
    }
   ],
   "source": [
    "lr_min, lr_steep = learn.lr_find()"
   ]
  },
  {
   "cell_type": "code",
   "execution_count": 20,
   "id": "982a9789",
   "metadata": {},
   "outputs": [
    {
     "data": {
      "text/plain": [
       "(7.585775847473997e-08, 4.786300905834651e-06)"
      ]
     },
     "execution_count": 20,
     "metadata": {},
     "output_type": "execute_result"
    }
   ],
   "source": [
    "lr_min, lr_steep"
   ]
  },
  {
   "cell_type": "code",
   "execution_count": 17,
   "id": "d194dd57",
   "metadata": {},
   "outputs": [
    {
     "data": {
      "text/plain": [
       "2"
      ]
     },
     "execution_count": 17,
     "metadata": {},
     "output_type": "execute_result"
    }
   ],
   "source": [
    "learn.opt.frozen_idx"
   ]
  },
  {
   "cell_type": "code",
   "execution_count": 21,
   "id": "e43102c1",
   "metadata": {
    "scrolled": false
   },
   "outputs": [
    {
     "data": {
      "text/plain": [
       "Sequential(\n",
       "  (0): Sequential(\n",
       "    (0): Conv2d(3, 64, kernel_size=(7, 7), stride=(2, 2), padding=(3, 3), bias=False)\n",
       "    (1): BatchNorm2d(64, eps=1e-05, momentum=0.1, affine=True, track_running_stats=True)\n",
       "    (2): ReLU(inplace=True)\n",
       "    (3): MaxPool2d(kernel_size=3, stride=2, padding=1, dilation=1, ceil_mode=False)\n",
       "    (4): Sequential(\n",
       "      (0): BasicBlock(\n",
       "        (conv1): Conv2d(64, 64, kernel_size=(3, 3), stride=(1, 1), padding=(1, 1), bias=False)\n",
       "        (bn1): BatchNorm2d(64, eps=1e-05, momentum=0.1, affine=True, track_running_stats=True)\n",
       "        (relu): ReLU(inplace=True)\n",
       "        (conv2): Conv2d(64, 64, kernel_size=(3, 3), stride=(1, 1), padding=(1, 1), bias=False)\n",
       "        (bn2): BatchNorm2d(64, eps=1e-05, momentum=0.1, affine=True, track_running_stats=True)\n",
       "      )\n",
       "      (1): BasicBlock(\n",
       "        (conv1): Conv2d(64, 64, kernel_size=(3, 3), stride=(1, 1), padding=(1, 1), bias=False)\n",
       "        (bn1): BatchNorm2d(64, eps=1e-05, momentum=0.1, affine=True, track_running_stats=True)\n",
       "        (relu): ReLU(inplace=True)\n",
       "        (conv2): Conv2d(64, 64, kernel_size=(3, 3), stride=(1, 1), padding=(1, 1), bias=False)\n",
       "        (bn2): BatchNorm2d(64, eps=1e-05, momentum=0.1, affine=True, track_running_stats=True)\n",
       "      )\n",
       "      (2): BasicBlock(\n",
       "        (conv1): Conv2d(64, 64, kernel_size=(3, 3), stride=(1, 1), padding=(1, 1), bias=False)\n",
       "        (bn1): BatchNorm2d(64, eps=1e-05, momentum=0.1, affine=True, track_running_stats=True)\n",
       "        (relu): ReLU(inplace=True)\n",
       "        (conv2): Conv2d(64, 64, kernel_size=(3, 3), stride=(1, 1), padding=(1, 1), bias=False)\n",
       "        (bn2): BatchNorm2d(64, eps=1e-05, momentum=0.1, affine=True, track_running_stats=True)\n",
       "      )\n",
       "    )\n",
       "    (5): Sequential(\n",
       "      (0): BasicBlock(\n",
       "        (conv1): Conv2d(64, 128, kernel_size=(3, 3), stride=(2, 2), padding=(1, 1), bias=False)\n",
       "        (bn1): BatchNorm2d(128, eps=1e-05, momentum=0.1, affine=True, track_running_stats=True)\n",
       "        (relu): ReLU(inplace=True)\n",
       "        (conv2): Conv2d(128, 128, kernel_size=(3, 3), stride=(1, 1), padding=(1, 1), bias=False)\n",
       "        (bn2): BatchNorm2d(128, eps=1e-05, momentum=0.1, affine=True, track_running_stats=True)\n",
       "        (downsample): Sequential(\n",
       "          (0): Conv2d(64, 128, kernel_size=(1, 1), stride=(2, 2), bias=False)\n",
       "          (1): BatchNorm2d(128, eps=1e-05, momentum=0.1, affine=True, track_running_stats=True)\n",
       "        )\n",
       "      )\n",
       "      (1): BasicBlock(\n",
       "        (conv1): Conv2d(128, 128, kernel_size=(3, 3), stride=(1, 1), padding=(1, 1), bias=False)\n",
       "        (bn1): BatchNorm2d(128, eps=1e-05, momentum=0.1, affine=True, track_running_stats=True)\n",
       "        (relu): ReLU(inplace=True)\n",
       "        (conv2): Conv2d(128, 128, kernel_size=(3, 3), stride=(1, 1), padding=(1, 1), bias=False)\n",
       "        (bn2): BatchNorm2d(128, eps=1e-05, momentum=0.1, affine=True, track_running_stats=True)\n",
       "      )\n",
       "      (2): BasicBlock(\n",
       "        (conv1): Conv2d(128, 128, kernel_size=(3, 3), stride=(1, 1), padding=(1, 1), bias=False)\n",
       "        (bn1): BatchNorm2d(128, eps=1e-05, momentum=0.1, affine=True, track_running_stats=True)\n",
       "        (relu): ReLU(inplace=True)\n",
       "        (conv2): Conv2d(128, 128, kernel_size=(3, 3), stride=(1, 1), padding=(1, 1), bias=False)\n",
       "        (bn2): BatchNorm2d(128, eps=1e-05, momentum=0.1, affine=True, track_running_stats=True)\n",
       "      )\n",
       "      (3): BasicBlock(\n",
       "        (conv1): Conv2d(128, 128, kernel_size=(3, 3), stride=(1, 1), padding=(1, 1), bias=False)\n",
       "        (bn1): BatchNorm2d(128, eps=1e-05, momentum=0.1, affine=True, track_running_stats=True)\n",
       "        (relu): ReLU(inplace=True)\n",
       "        (conv2): Conv2d(128, 128, kernel_size=(3, 3), stride=(1, 1), padding=(1, 1), bias=False)\n",
       "        (bn2): BatchNorm2d(128, eps=1e-05, momentum=0.1, affine=True, track_running_stats=True)\n",
       "      )\n",
       "    )\n",
       "    (6): Sequential(\n",
       "      (0): BasicBlock(\n",
       "        (conv1): Conv2d(128, 256, kernel_size=(3, 3), stride=(2, 2), padding=(1, 1), bias=False)\n",
       "        (bn1): BatchNorm2d(256, eps=1e-05, momentum=0.1, affine=True, track_running_stats=True)\n",
       "        (relu): ReLU(inplace=True)\n",
       "        (conv2): Conv2d(256, 256, kernel_size=(3, 3), stride=(1, 1), padding=(1, 1), bias=False)\n",
       "        (bn2): BatchNorm2d(256, eps=1e-05, momentum=0.1, affine=True, track_running_stats=True)\n",
       "        (downsample): Sequential(\n",
       "          (0): Conv2d(128, 256, kernel_size=(1, 1), stride=(2, 2), bias=False)\n",
       "          (1): BatchNorm2d(256, eps=1e-05, momentum=0.1, affine=True, track_running_stats=True)\n",
       "        )\n",
       "      )\n",
       "      (1): BasicBlock(\n",
       "        (conv1): Conv2d(256, 256, kernel_size=(3, 3), stride=(1, 1), padding=(1, 1), bias=False)\n",
       "        (bn1): BatchNorm2d(256, eps=1e-05, momentum=0.1, affine=True, track_running_stats=True)\n",
       "        (relu): ReLU(inplace=True)\n",
       "        (conv2): Conv2d(256, 256, kernel_size=(3, 3), stride=(1, 1), padding=(1, 1), bias=False)\n",
       "        (bn2): BatchNorm2d(256, eps=1e-05, momentum=0.1, affine=True, track_running_stats=True)\n",
       "      )\n",
       "      (2): BasicBlock(\n",
       "        (conv1): Conv2d(256, 256, kernel_size=(3, 3), stride=(1, 1), padding=(1, 1), bias=False)\n",
       "        (bn1): BatchNorm2d(256, eps=1e-05, momentum=0.1, affine=True, track_running_stats=True)\n",
       "        (relu): ReLU(inplace=True)\n",
       "        (conv2): Conv2d(256, 256, kernel_size=(3, 3), stride=(1, 1), padding=(1, 1), bias=False)\n",
       "        (bn2): BatchNorm2d(256, eps=1e-05, momentum=0.1, affine=True, track_running_stats=True)\n",
       "      )\n",
       "      (3): BasicBlock(\n",
       "        (conv1): Conv2d(256, 256, kernel_size=(3, 3), stride=(1, 1), padding=(1, 1), bias=False)\n",
       "        (bn1): BatchNorm2d(256, eps=1e-05, momentum=0.1, affine=True, track_running_stats=True)\n",
       "        (relu): ReLU(inplace=True)\n",
       "        (conv2): Conv2d(256, 256, kernel_size=(3, 3), stride=(1, 1), padding=(1, 1), bias=False)\n",
       "        (bn2): BatchNorm2d(256, eps=1e-05, momentum=0.1, affine=True, track_running_stats=True)\n",
       "      )\n",
       "      (4): BasicBlock(\n",
       "        (conv1): Conv2d(256, 256, kernel_size=(3, 3), stride=(1, 1), padding=(1, 1), bias=False)\n",
       "        (bn1): BatchNorm2d(256, eps=1e-05, momentum=0.1, affine=True, track_running_stats=True)\n",
       "        (relu): ReLU(inplace=True)\n",
       "        (conv2): Conv2d(256, 256, kernel_size=(3, 3), stride=(1, 1), padding=(1, 1), bias=False)\n",
       "        (bn2): BatchNorm2d(256, eps=1e-05, momentum=0.1, affine=True, track_running_stats=True)\n",
       "      )\n",
       "      (5): BasicBlock(\n",
       "        (conv1): Conv2d(256, 256, kernel_size=(3, 3), stride=(1, 1), padding=(1, 1), bias=False)\n",
       "        (bn1): BatchNorm2d(256, eps=1e-05, momentum=0.1, affine=True, track_running_stats=True)\n",
       "        (relu): ReLU(inplace=True)\n",
       "        (conv2): Conv2d(256, 256, kernel_size=(3, 3), stride=(1, 1), padding=(1, 1), bias=False)\n",
       "        (bn2): BatchNorm2d(256, eps=1e-05, momentum=0.1, affine=True, track_running_stats=True)\n",
       "      )\n",
       "    )\n",
       "    (7): Sequential(\n",
       "      (0): BasicBlock(\n",
       "        (conv1): Conv2d(256, 512, kernel_size=(3, 3), stride=(2, 2), padding=(1, 1), bias=False)\n",
       "        (bn1): BatchNorm2d(512, eps=1e-05, momentum=0.1, affine=True, track_running_stats=True)\n",
       "        (relu): ReLU(inplace=True)\n",
       "        (conv2): Conv2d(512, 512, kernel_size=(3, 3), stride=(1, 1), padding=(1, 1), bias=False)\n",
       "        (bn2): BatchNorm2d(512, eps=1e-05, momentum=0.1, affine=True, track_running_stats=True)\n",
       "        (downsample): Sequential(\n",
       "          (0): Conv2d(256, 512, kernel_size=(1, 1), stride=(2, 2), bias=False)\n",
       "          (1): BatchNorm2d(512, eps=1e-05, momentum=0.1, affine=True, track_running_stats=True)\n",
       "        )\n",
       "      )\n",
       "      (1): BasicBlock(\n",
       "        (conv1): Conv2d(512, 512, kernel_size=(3, 3), stride=(1, 1), padding=(1, 1), bias=False)\n",
       "        (bn1): BatchNorm2d(512, eps=1e-05, momentum=0.1, affine=True, track_running_stats=True)\n",
       "        (relu): ReLU(inplace=True)\n",
       "        (conv2): Conv2d(512, 512, kernel_size=(3, 3), stride=(1, 1), padding=(1, 1), bias=False)\n",
       "        (bn2): BatchNorm2d(512, eps=1e-05, momentum=0.1, affine=True, track_running_stats=True)\n",
       "      )\n",
       "      (2): BasicBlock(\n",
       "        (conv1): Conv2d(512, 512, kernel_size=(3, 3), stride=(1, 1), padding=(1, 1), bias=False)\n",
       "        (bn1): BatchNorm2d(512, eps=1e-05, momentum=0.1, affine=True, track_running_stats=True)\n",
       "        (relu): ReLU(inplace=True)\n",
       "        (conv2): Conv2d(512, 512, kernel_size=(3, 3), stride=(1, 1), padding=(1, 1), bias=False)\n",
       "        (bn2): BatchNorm2d(512, eps=1e-05, momentum=0.1, affine=True, track_running_stats=True)\n",
       "      )\n",
       "    )\n",
       "  )\n",
       "  (1): Sequential(\n",
       "    (0): AdaptiveConcatPool2d(\n",
       "      (ap): AdaptiveAvgPool2d(output_size=1)\n",
       "      (mp): AdaptiveMaxPool2d(output_size=1)\n",
       "    )\n",
       "    (1): Flatten(full=False)\n",
       "    (2): BatchNorm1d(1024, eps=1e-05, momentum=0.1, affine=True, track_running_stats=True)\n",
       "    (3): Dropout(p=0.25, inplace=False)\n",
       "    (4): Linear(in_features=1024, out_features=512, bias=False)\n",
       "    (5): ReLU(inplace=True)\n",
       "    (6): BatchNorm1d(512, eps=1e-05, momentum=0.1, affine=True, track_running_stats=True)\n",
       "    (7): Dropout(p=0.5, inplace=False)\n",
       "    (8): Linear(in_features=512, out_features=30993, bias=False)\n",
       "  )\n",
       ")"
      ]
     },
     "execution_count": 21,
     "metadata": {},
     "output_type": "execute_result"
    }
   ],
   "source": [
    "learn.model"
   ]
  },
  {
   "cell_type": "code",
   "execution_count": 22,
   "id": "5db41591",
   "metadata": {
    "scrolled": false
   },
   "outputs": [
    {
     "data": {
      "text/html": [
       "<table border=\"1\" class=\"dataframe\">\n",
       "  <thead>\n",
       "    <tr style=\"text-align: left;\">\n",
       "      <th>epoch</th>\n",
       "      <th>train_loss</th>\n",
       "      <th>valid_loss</th>\n",
       "      <th>time</th>\n",
       "    </tr>\n",
       "  </thead>\n",
       "  <tbody>\n",
       "    <tr>\n",
       "      <td>0</td>\n",
       "      <td>7.536519</td>\n",
       "      <td>7.302029</td>\n",
       "      <td>2:33:11</td>\n",
       "    </tr>\n",
       "  </tbody>\n",
       "</table>"
      ],
      "text/plain": [
       "<IPython.core.display.HTML object>"
      ]
     },
     "metadata": {},
     "output_type": "display_data"
    }
   ],
   "source": [
    "learn.unfreeze()\n",
    "learn.fit_one_cycle(1, lr_max=slice(1e-6, 1e-2))"
   ]
  },
  {
   "cell_type": "code",
   "execution_count": 23,
   "id": "145aec10",
   "metadata": {
    "scrolled": false
   },
   "outputs": [
    {
     "data": {
      "text/html": [],
      "text/plain": [
       "<IPython.core.display.HTML object>"
      ]
     },
     "metadata": {},
     "output_type": "display_data"
    },
    {
     "name": "stdout",
     "output_type": "stream",
     "text": [
      "Top-30 error rate: 81.8%\n"
     ]
    }
   ],
   "source": [
    "score_test(learn, df_val)"
   ]
  },
  {
   "cell_type": "code",
   "execution_count": 24,
   "id": "cd213967",
   "metadata": {},
   "outputs": [
    {
     "data": {
      "text/html": [
       "<div>\n",
       "<style scoped>\n",
       "    .dataframe tbody tr th:only-of-type {\n",
       "        vertical-align: middle;\n",
       "    }\n",
       "\n",
       "    .dataframe tbody tr th {\n",
       "        vertical-align: top;\n",
       "    }\n",
       "\n",
       "    .dataframe thead th {\n",
       "        text-align: right;\n",
       "    }\n",
       "</style>\n",
       "<table border=\"1\" class=\"dataframe\">\n",
       "  <thead>\n",
       "    <tr style=\"text-align: right;\">\n",
       "      <th></th>\n",
       "      <th>observation_id</th>\n",
       "      <th>latitude</th>\n",
       "      <th>longitude</th>\n",
       "    </tr>\n",
       "  </thead>\n",
       "  <tbody>\n",
       "    <tr>\n",
       "      <th>0</th>\n",
       "      <td>10782781</td>\n",
       "      <td>43.601788</td>\n",
       "      <td>6.940195</td>\n",
       "    </tr>\n",
       "    <tr>\n",
       "      <th>1</th>\n",
       "      <td>10364138</td>\n",
       "      <td>46.241711</td>\n",
       "      <td>0.683586</td>\n",
       "    </tr>\n",
       "    <tr>\n",
       "      <th>2</th>\n",
       "      <td>10692017</td>\n",
       "      <td>45.181095</td>\n",
       "      <td>1.533459</td>\n",
       "    </tr>\n",
       "    <tr>\n",
       "      <th>3</th>\n",
       "      <td>10222322</td>\n",
       "      <td>46.938450</td>\n",
       "      <td>5.298678</td>\n",
       "    </tr>\n",
       "    <tr>\n",
       "      <th>4</th>\n",
       "      <td>10241950</td>\n",
       "      <td>45.017433</td>\n",
       "      <td>0.960736</td>\n",
       "    </tr>\n",
       "  </tbody>\n",
       "</table>\n",
       "</div>"
      ],
      "text/plain": [
       "  observation_id   latitude  longitude\n",
       "0       10782781  43.601788   6.940195\n",
       "1       10364138  46.241711   0.683586\n",
       "2       10692017  45.181095   1.533459\n",
       "3       10222322  46.938450   5.298678\n",
       "4       10241950  45.017433   0.960736"
      ]
     },
     "execution_count": 24,
     "metadata": {},
     "output_type": "execute_result"
    }
   ],
   "source": [
    "df_test = get_test_observations(DATA_PATH)\n",
    "#df_test = df_test.reset_index()\n",
    "#df_test.observation_id = df_test.observation_id.astype(int)\n",
    "df_test.head()"
   ]
  },
  {
   "cell_type": "code",
   "execution_count": 25,
   "id": "10237bbb",
   "metadata": {},
   "outputs": [],
   "source": [
    "df_test_obs_id_mapping = pd.read_csv(BASE_PATH / \"test_observation_ids_mapping.csv\", sep=\";\")"
   ]
  },
  {
   "cell_type": "code",
   "execution_count": 26,
   "id": "4ab09878",
   "metadata": {
    "scrolled": false
   },
   "outputs": [
    {
     "data": {
      "text/html": [],
      "text/plain": [
       "<IPython.core.display.HTML object>"
      ]
     },
     "metadata": {},
     "output_type": "display_data"
    }
   ],
   "source": [
    "dl_t = learn.dls.test_dl(df_test, bs=256)\n",
    "preds, _ = learn.get_preds(dl=dl_t)\n",
    "preds_ids = array([learn.dls.vocab[pred] for pred in predict_top_k_set(preds, 30)])\n",
    "\n",
    "# Generate the submission file\n",
    "generate_submission_file(SUBMISSION_PATH/\"fastai_cnn_rbg.csv\", df_test_obs_id_mapping[\"Id\"], preds_ids)"
   ]
  },
  {
   "cell_type": "code",
   "execution_count": 27,
   "id": "0637a462",
   "metadata": {},
   "outputs": [
    {
     "name": "stdout",
     "output_type": "stream",
     "text": [
      "100%|██████████████████████████████████████| 5.68M/5.68M [00:01<00:00, 3.97MB/s]\n",
      "Successfully submitted to GeoLifeCLEF 2021 - LifeCLEF 2021 x FGVC8"
     ]
    }
   ],
   "source": [
    "!kaggle competitions submit -c geolifeclef-2021 -f {SUBMISSION_PATH/\"fastai_cnn_rbg.csv\"} -m \"fastai cnn submission\""
   ]
  },
  {
   "cell_type": "code",
   "execution_count": null,
   "id": "b3286807",
   "metadata": {},
   "outputs": [],
   "source": []
  }
 ],
 "metadata": {
  "kernelspec": {
   "display_name": "Python 3",
   "language": "python",
   "name": "python3"
  },
  "language_info": {
   "codemirror_mode": {
    "name": "ipython",
    "version": 3
   },
   "file_extension": ".py",
   "mimetype": "text/x-python",
   "name": "python",
   "nbconvert_exporter": "python",
   "pygments_lexer": "ipython3",
   "version": "3.8.6"
  }
 },
 "nbformat": 4,
 "nbformat_minor": 5
}
